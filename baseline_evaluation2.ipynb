{
  "nbformat": 4,
  "nbformat_minor": 0,
  "metadata": {
    "colab": {
      "provenance": []
    },
    "kernelspec": {
      "name": "python3",
      "display_name": "Python 3"
    },
    "language_info": {
      "name": "python"
    },
    "accelerator": "GPU",
    "gpuClass": "standard"
  },
  "cells": [
    {
      "cell_type": "code",
      "execution_count": null,
      "metadata": {
        "id": "7PJQe29hsCam"
      },
      "outputs": [],
      "source": [
        "\n",
        "!pip install pyserini\n",
        "!pip install faiss-cpu\n",
        "\n",
        "!git clone https://github.com/castorini/anserini.git --recurse-submodules"
      ]
    },
    {
      "cell_type": "code",
      "source": [
        "from google.colab import drive\n",
        "drive.mount('/content/drive')\n"
      ],
      "metadata": {
        "id": "X-Q05fjwvJT7"
      },
      "execution_count": null,
      "outputs": []
    },
    {
      "cell_type": "code",
      "source": [
        "import os\n",
        "os.chdir('/content/drive/MyDrive/Colab Notebooks')"
      ],
      "metadata": {
        "id": "zrthS1g2-akG"
      },
      "execution_count": null,
      "outputs": []
    },
    {
      "cell_type": "code",
      "source": [
        "!pip install json_lines\n",
        "!pip install jsonlines"
      ],
      "metadata": {
        "id": "fDvH5dm6110I"
      },
      "execution_count": null,
      "outputs": []
    },
    {
      "cell_type": "code",
      "source": [
        "import json_lines\n",
        "import jsonlines\n",
        "import csv\n",
        "\n",
        "with open('queries.tsv', 'w', newline='') as f_output:\n",
        "  tsv_w = csv.writer(f_output, delimiter='\\t')\n",
        "  with open('trec-covid/queries.jsonl', 'rb') as f:\n",
        "    for item in json_lines.reader(f):\n",
        "      tsv_w.writerow([item['_id'], item['text']])\n",
        "    f.close()\n",
        "  f_output.close()\n",
        "\n",
        "    \n"
      ],
      "metadata": {
        "id": "Z0BxPeyU2yaP"
      },
      "execution_count": null,
      "outputs": []
    },
    {
      "cell_type": "code",
      "source": [
        "file = jsonlines.open('corpus/corpus_new.jsonl','w')\n",
        "#i = 0\n",
        "with open('trec-covid/corpus/corpus.jsonl', 'rb') as f:\n",
        "    for item in json_lines.reader(f):\n",
        "      #file = jsonlines.open(f'output/{i}.jsonl','w')\n",
        "      #item[\"id\"] = item.pop(\"_id\")\n",
        "      #item[\"contents\"] = item.pop(\"text\")\n",
        "      item_new = {\"id\": item[\"_id\"], \"contents\": item[\"text\"]}\n",
        "      jsonlines.Writer.write(file,item_new)\n",
        "    f.close()\n",
        "file.close()\n",
        "      #i +=1\n",
        "    "
      ],
      "metadata": {
        "id": "UPzJP7J5IcFA"
      },
      "execution_count": null,
      "outputs": []
    },
    {
      "cell_type": "code",
      "source": [
        "!python -m pyserini.index.lucene \\\n",
        "  --collection JsonCollection \\\n",
        "  --input corpus \\\n",
        "  --index indexes/covid_new \\\n",
        "  --generator DefaultLuceneDocumentGenerator \\\n",
        "  --threads 1 \\\n",
        "  --storePositions --storeDocvectors --storeRaw"
      ],
      "metadata": {
        "id": "81XIfeKMsq1b"
      },
      "execution_count": null,
      "outputs": []
    },
    {
      "cell_type": "code",
      "source": [
        "#from pyserini.search.lucene import LuceneSearcher\n",
        "\n",
        "#searcher = LuceneSearcher('indexes/covid_new')\n",
        "#hits = searcher.search('document')\n",
        "\n",
        "#for i in range(len(hits)):\n",
        "    #print(f'{i+1:2} {hits[i].docid:4} {hits[i].score:.5f}')"
      ],
      "metadata": {
        "id": "c1LxR_M_tH0v"
      },
      "execution_count": null,
      "outputs": []
    },
    {
      "cell_type": "code",
      "source": [
        "!python -m pyserini.search.lucene \\\n",
        "  --index indexes/covid_new \\\n",
        "  --topics queries.tsv \\\n",
        "  --output result_without_bm.txt \\\n",
        "  --bm25"
      ],
      "metadata": {
        "id": "uxdlii-ftc2w"
      },
      "execution_count": null,
      "outputs": []
    },
    {
      "cell_type": "code",
      "source": [
        "import json\n",
        "import math\n",
        "import numpy as np"
      ],
      "metadata": {
        "id": "uDnHZVNe5hyJ"
      },
      "execution_count": null,
      "outputs": []
    },
    {
      "cell_type": "code",
      "source": [
        "def parse_qrel_line(line):\n",
        "\n",
        "    lst = line.split()\n",
        "    query = int(lst[0])\n",
        "    document = lst[1]\n",
        "    relevancy = int(lst[2])\n",
        "\n",
        "    return query, document, relevancy"
      ],
      "metadata": {
        "id": "nmZMJMyN5unO"
      },
      "execution_count": null,
      "outputs": []
    },
    {
      "cell_type": "code",
      "source": [
        "def parse_results_line(line):\n",
        "\n",
        "    lst = line.split()\n",
        "    query = int(lst[0])\n",
        "    document = lst[2]\n",
        "    rank = int(lst[3])\n",
        "\n",
        "    return query, document, rank"
      ],
      "metadata": {
        "id": "3Y3ilctn5zCh"
      },
      "execution_count": null,
      "outputs": []
    },
    {
      "cell_type": "code",
      "source": [
        "class relevancy_lookup(object):\n",
        "    def __init__(self):\n",
        "        self.relevancies = {}\n",
        "    \n",
        "    def add(self, query, document, relevancy):\n",
        "\n",
        "        if query not in self.relevancies.keys():\n",
        "            self.relevancies.update({query:{document: relevancy}})\n",
        "        else:\n",
        "            self.relevancies[query].update({document: relevancy})\n",
        "\n",
        "        \n",
        "    def get(self, query, document):\n",
        "        if document in self.relevancies[query].keys():\n",
        "            relevancy = self.relevancies[query][document]\n",
        "        else:\n",
        "            relevancy = 0\n",
        "        return relevancy"
      ],
      "metadata": {
        "id": "ApygYkju55YA"
      },
      "execution_count": null,
      "outputs": []
    },
    {
      "cell_type": "code",
      "source": [
        "def get_ranked_labels(rel_lookup, query, doc_rank_list): \n",
        "    result = np.zeros(len(doc_rank_list), dtype=int)\n",
        "    for x in doc_rank_list:\n",
        "        result[x[1]-1] = rel_lookup.get(query, x[0])\n",
        "    return result"
      ],
      "metadata": {
        "id": "wtkOGQXc5-BC"
      },
      "execution_count": null,
      "outputs": []
    },
    {
      "cell_type": "code",
      "source": [
        "from itertools import islice\n",
        "\n",
        "def process_files(qrel_path, results_path):\n",
        "    relevancies = relevancy_lookup()\n",
        "    with open(qrel_path, 'r') as qrel_file:\n",
        "        next(qrel_file)\n",
        "        for line in qrel_file:\n",
        "            query, document, relevancy = parse_qrel_line(line)\n",
        "            relevancies.add(query, document, relevancy)\n",
        "\n",
        "    with open(results_path, 'r') as results_file:\n",
        "        current_query, document, rank = parse_results_line(next(results_file))    \n",
        "        doc_rank_list = [(document, rank)]\n",
        "        for line in results_file:\n",
        "    \n",
        "            query, document, rank = parse_results_line(line)\n",
        "            # only top 100 be considered\n",
        "            if rank > 100:\n",
        "              continue\n",
        "            \n",
        "            if query != current_query:\n",
        "                yield get_ranked_labels(relevancies, current_query, doc_rank_list)\n",
        "                current_query = query\n",
        "                doc_rank_list = [(document, rank)]\n",
        "            else:\n",
        "                doc_rank_list.append((document, rank))\n",
        "\n",
        "        yield get_ranked_labels(relevancies, current_query, doc_rank_list)"
      ],
      "metadata": {
        "id": "UO31-DQ-6DQV"
      },
      "execution_count": null,
      "outputs": []
    },
    {
      "cell_type": "code",
      "source": [
        "def precision(query_relevancy_labels, k):\n",
        "    if k > 0:\n",
        "        prec = sum(query_relevancy_labels[:k])/k\n",
        "        #print(prec)\n",
        "        return prec\n",
        "    else:\n",
        "        return 0"
      ],
      "metadata": {
        "id": "jBlIG54L6Nvk"
      },
      "execution_count": null,
      "outputs": []
    },
    {
      "cell_type": "code",
      "source": [
        "def recall(query_relevancy_labels, k):\n",
        "    denominator = sum(query_relevancy_labels)\n",
        "    \n",
        "    if denominator > 0 :\n",
        "        rec = sum(query_relevancy_labels[:k])/denominator\n",
        "        return rec\n",
        "    else:\n",
        "        return 0.0"
      ],
      "metadata": {
        "id": "HjyIpR0G6SNP"
      },
      "execution_count": null,
      "outputs": []
    },
    {
      "cell_type": "code",
      "source": [
        "def F_score(query_relevancy_labels, k):\n",
        "\n",
        "    denominator = precision(query_relevancy_labels, k) + recall(query_relevancy_labels, k)\n",
        "    \n",
        "    if denominator > 0:\n",
        "        F_s = 2 * precision(query_relevancy_labels, k) * recall(query_relevancy_labels, k)/denominator\n",
        "        return F_s\n",
        "    else:\n",
        "        return 0.0"
      ],
      "metadata": {
        "id": "EXBM1wgB3_RW"
      },
      "execution_count": null,
      "outputs": []
    },
    {
      "cell_type": "code",
      "source": [
        "def DCG(query_relevancy_labels, k):\n",
        "    # Use log with base 2\n",
        "    lst = []\n",
        "    range_value = min(len(query_relevancy_labels),k)\n",
        "    for i in range(range_value):\n",
        "        denominator = math.log(i+2,2)\n",
        "        \n",
        "        if denominator == 0:\n",
        "            lst.append(0.0)\n",
        "        else:\n",
        "            lst.append(query_relevancy_labels[i]/denominator)\n",
        "    return sum(lst)"
      ],
      "metadata": {
        "id": "tUgXhJwZ6VlZ"
      },
      "execution_count": null,
      "outputs": []
    },
    {
      "cell_type": "code",
      "source": [
        "def NDCG(query_relevancy_labels, k):\n",
        "    max_query_relevancy_labels = abs(np.sort((-1)*query_relevancy_labels))\n",
        "    denominator = DCG(max_query_relevancy_labels, k)\n",
        "    if denominator == 0:\n",
        "        return 0.0\n",
        "    else:\n",
        "        return DCG(query_relevancy_labels, k)/denominator"
      ],
      "metadata": {
        "id": "sh7ETY4u6iyj"
      },
      "execution_count": null,
      "outputs": []
    },
    {
      "cell_type": "code",
      "source": [
        "def AP(query_relevancy_labels):\n",
        "    denominator = sum(query_relevancy_labels)\n",
        "    if denominator == 0:\n",
        "        return 0.0\n",
        "    else:\n",
        "        lst = []\n",
        "        for k in range(len(query_relevancy_labels)):\n",
        "            lst.append(query_relevancy_labels[k] * precision(query_relevancy_labels[:k+1], k+1))\n",
        "        return sum(lst)/denominator"
      ],
      "metadata": {
        "id": "j90ha3_V6njZ"
      },
      "execution_count": null,
      "outputs": []
    },
    {
      "cell_type": "code",
      "source": [
        "def RR(query_relevancy_labels):\n",
        "\n",
        "    position = list(np.where(query_relevancy_labels == 1)[0])\n",
        "    if position:\n",
        "        return 1/(position[0]+1)\n",
        "    else:\n",
        "        return 0"
      ],
      "metadata": {
        "id": "kqGsXP4L6rTm"
      },
      "execution_count": null,
      "outputs": []
    },
    {
      "cell_type": "code",
      "source": [
        "def evaluate(qrel_path, results_path):\n",
        "    results_per_query = {\n",
        "        'precision@1': [],\n",
        "        'precision@5': [],\n",
        "        'precision@10': [],\n",
        "        'precision@25': [],\n",
        "        'recall@1': [],\n",
        "        'recall@5': [],\n",
        "        'recall@10': [],\n",
        "        'recall@25': [],\n",
        "        'F-score@1': [],\n",
        "        'F-score@5': [],\n",
        "        'F-score@10': [],\n",
        "        'F-score@25': [],\n",
        "        'DCG@1': [],\n",
        "        'DCG@5': [],\n",
        "        'DCG@10': [],\n",
        "        'DCG@25': [],\n",
        "        'NDCG@1': [],\n",
        "        'NDCG@5': [],\n",
        "        'NDCG@10': [],\n",
        "        'NDCG@25': [],\n",
        "        'MAP': [],\n",
        "        'MRR': [],\n",
        "    }\n",
        "    for labels in process_files(qrel_path, results_path):\n",
        "        results_per_query['precision@1'].append(precision(labels, 1))\n",
        "        results_per_query['precision@5'].append(precision(labels, 5))\n",
        "        results_per_query['precision@10'].append(precision(labels, 10))\n",
        "        results_per_query['precision@25'].append(precision(labels, 25))\n",
        "        results_per_query['recall@1'].append(recall(labels, 1))\n",
        "        results_per_query['recall@5'].append(recall(labels, 5))\n",
        "        results_per_query['recall@10'].append(recall(labels, 10))\n",
        "        results_per_query['recall@25'].append(recall(labels, 25))\n",
        "        results_per_query['F-score@1'].append(F_score(labels, 1))\n",
        "        results_per_query['F-score@5'].append(F_score(labels, 5))\n",
        "        results_per_query['F-score@10'].append(F_score(labels, 10))\n",
        "        results_per_query['F-score@25'].append(F_score(labels, 25))\n",
        "        results_per_query['DCG@1'].append(DCG(labels, 1))\n",
        "        results_per_query['DCG@5'].append(DCG(labels, 5))\n",
        "        results_per_query['DCG@10'].append(DCG(labels, 10))\n",
        "        results_per_query['DCG@25'].append(DCG(labels, 25))\n",
        "        results_per_query['NDCG@1'].append(NDCG(labels, 1))\n",
        "        results_per_query['NDCG@5'].append(NDCG(labels, 5))\n",
        "        results_per_query['NDCG@10'].append(NDCG(labels, 10))\n",
        "        results_per_query['NDCG@25'].append(NDCG(labels, 25))\n",
        "        results_per_query['MAP'].append(AP(labels))\n",
        "        results_per_query['MRR'].append(RR(labels))\n",
        "    \n",
        "    results = {}\n",
        "    for key, values in results_per_query.items():\n",
        "        #print(key)\n",
        "        #print(len(values))\n",
        "        results[key] = np.mean(values)\n",
        "    return results"
      ],
      "metadata": {
        "id": "2mwrpBld62aS"
      },
      "execution_count": null,
      "outputs": []
    },
    {
      "cell_type": "code",
      "source": [
        "results = evaluate('trec-covid/qrels/test.tsv', 'run.sample.txt')"
      ],
      "metadata": {
        "id": "IEiuYa5FWUTX"
      },
      "execution_count": null,
      "outputs": []
    },
    {
      "cell_type": "code",
      "source": [
        "with open('evaluation_50_query_100_doc.json', 'w') as f:\n",
        "      json.dump(results, f)"
      ],
      "metadata": {
        "id": "lzaBBIRgtBMx"
      },
      "execution_count": null,
      "outputs": []
    },
    {
      "cell_type": "code",
      "source": [
        "\n"
      ],
      "metadata": {
        "id": "OsW-mHXw_hkb"
      },
      "execution_count": null,
      "outputs": []
    },
    {
      "cell_type": "code",
      "source": [
        "import ast\n",
        "with open('output_test_queries.txt', 'r') as qrel_file:\n",
        "  for data in qrel_file:\n",
        "    data = ast.literal_eval(data)\n",
        "    print(data[0])"
      ],
      "metadata": {
        "id": "R5z0Wjb_Ah0d"
      },
      "execution_count": null,
      "outputs": []
    },
    {
      "cell_type": "code",
      "source": [
        "with open('output_test_queries_formatted.txt', 'w') as f:\n",
        "    lines = ''\n",
        "    count = 0\n",
        "    for item in data:\n",
        "      count += 1\n",
        "      rank = 0\n",
        "      for pair in item:\n",
        "        rank +=1\n",
        "        if rank%10 == 0:\n",
        "          rank = 10\n",
        "        \n",
        "        lines += str(count) + ' ' + 'Q' + ' ' + str(pair[0]) + ' ' + str(rank) + ' ' + str(pair[1]) + '\\n'\n",
        "    f.writelines(lines)"
      ],
      "metadata": {
        "id": "lKp-7BXjBt3t"
      },
      "execution_count": null,
      "outputs": []
    },
    {
      "cell_type": "code",
      "source": [
        "#with open('trec-covid/corpus/corpus.jsonl', 'rb') as f:\n",
        "    #for item in json_lines.reader(f):\n",
        "      #file = jsonlines.open(f'output/{i}.jsonl','w')\n",
        "      #item[\"id\"] = item.pop(\"_id\")\n",
        "      #item[\"contents\"] = item.pop(\"text\")\n",
        "      #item_new = {\"id\": item[\"_id\"], \"contents\": item[\"text\"]}\n",
        "      #jsonlines.Writer.write(file,item_new)\n",
        "        #if item['_id'] == 'kjjljbl5':\n",
        "            #print(item)\n",
        "    #f.close()"
      ],
      "metadata": {
        "colab": {
          "base_uri": "https://localhost:8080/"
        },
        "id": "aX5Lb32fUA3c",
        "outputId": "ccfa1e7a-16f4-486f-80d4-281fc28e3bf3"
      },
      "execution_count": null,
      "outputs": [
        {
          "output_type": "stream",
          "name": "stdout",
          "text": [
            "{'_id': 'kjjljbl5', 'title': 'Existence theory and numerical analysis of three species prey–predator model under Mittag-Leffler power law', 'text': 'In this manuscript, the fractional Atangana–Baleanu–Caputo model of prey and predator is studied theoretically and numerically. The existence and Ulam–Hyers stability results are obtained by applying fixed point theory and nonlinear analysis. The approximation solutions for the considered model are discussed via the fractional Adams Bashforth method. Moreover, the behavior of the solution to the given model is explained by graphical representations through the numerical simulations. The obtained results play an important role in developing the theory of fractional analytical dynamic of many biological systems.', 'metadata': {'url': 'https://doi.org/10.1186/s13662-020-02709-7; https://www.ncbi.nlm.nih.gov/pubmed/32501396/', 'pubmed_id': '32501396'}}\n"
          ]
        }
      ]
    },
    {
      "cell_type": "code",
      "source": [
        "results = evaluate('trec-covid/qrels/test.tsv', 'output_test_queries_formatted.txt')\n",
        "with open('evaluation_test_queries.json', 'w') as f:\n",
        "      json.dump(results, f)"
      ],
      "metadata": {
        "id": "RGLQ2f6UjaZu"
      },
      "execution_count": null,
      "outputs": []
    },
    {
      "cell_type": "markdown",
      "source": [
        "# 新段落"
      ],
      "metadata": {
        "id": "hQUpXztB_rzK"
      }
    }
  ]
}